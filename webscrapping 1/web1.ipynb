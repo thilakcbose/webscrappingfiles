{
 "cells": [
  {
   "cell_type": "code",
   "execution_count": 4,
   "metadata": {},
   "outputs": [
    {
     "name": "stdout",
     "output_type": "stream",
     "text": [
      "Defaulting to user installation because normal site-packages is not writeableNote: you may need to restart the kernel to use updated packages.\n",
      "\n",
      "Collecting openpyxl\n",
      "  Downloading openpyxl-3.1.2-py2.py3-none-any.whl.metadata (2.5 kB)\n",
      "Collecting et-xmlfile (from openpyxl)\n",
      "  Downloading et_xmlfile-1.1.0-py3-none-any.whl (4.7 kB)\n",
      "Downloading openpyxl-3.1.2-py2.py3-none-any.whl (249 kB)\n",
      "   ---------------------------------------- 0.0/250.0 kB ? eta -:--:--\n",
      "   ---------------------------------------- 0.0/250.0 kB ? eta -:--:--\n",
      "   - -------------------------------------- 10.2/250.0 kB ? eta -:--:--\n",
      "   - -------------------------------------- 10.2/250.0 kB ? eta -:--:--\n",
      "   ---- ---------------------------------- 30.7/250.0 kB 187.9 kB/s eta 0:00:02\n",
      "   ---- ---------------------------------- 30.7/250.0 kB 187.9 kB/s eta 0:00:02\n",
      "   ------ -------------------------------- 41.0/250.0 kB 151.3 kB/s eta 0:00:02\n",
      "   --------- ----------------------------- 61.4/250.0 kB 204.8 kB/s eta 0:00:01\n",
      "   --------- ----------------------------- 61.4/250.0 kB 204.8 kB/s eta 0:00:01\n",
      "   -------------- ------------------------ 92.2/250.0 kB 249.8 kB/s eta 0:00:01\n",
      "   -------------- ------------------------ 92.2/250.0 kB 249.8 kB/s eta 0:00:01\n",
      "   ------------------ ------------------- 122.9/250.0 kB 266.9 kB/s eta 0:00:01\n",
      "   --------------------- ---------------- 143.4/250.0 kB 293.9 kB/s eta 0:00:01\n",
      "   -------------------------- ----------- 174.1/250.0 kB 317.5 kB/s eta 0:00:01\n",
      "   ---------------------------------- --- 225.3/250.0 kB 372.0 kB/s eta 0:00:01\n",
      "   -------------------------------------  245.8/250.0 kB 376.8 kB/s eta 0:00:01\n",
      "   -------------------------------------- 250.0/250.0 kB 365.5 kB/s eta 0:00:00\n",
      "Installing collected packages: et-xmlfile, openpyxl\n",
      "Successfully installed et-xmlfile-1.1.0 openpyxl-3.1.2\n"
     ]
    }
   ],
   "source": [
    "# %pip install requests\n",
    "# %pip install ssl\n",
    "# %pip install parser-libraries\n",
    "%pip install openpyxl"
   ]
  },
  {
   "cell_type": "code",
   "execution_count": 19,
   "metadata": {},
   "outputs": [],
   "source": [
    "import requests\n",
    "from bs4 import BeautifulSoup\n",
    "import openpyxl\n",
    "from datetime import datetime\n",
    "\n",
    "excel = openpyxl.Workbook()\n",
    "sheet = excel.active\n",
    "sheet.title = \"Weather\"\n",
    "sheet.append([\"Date\",\"Day\",\"High Tempertaure\",\"Low Temperature\",\"Conditions\",\"Rain Percentage\",\"Wind direction\",\"Wind percentage\"])\n",
    "\n",
    "content = requests.get(\"https://weather.com/en-IN/weather/tenday/l/a5f0fe2ff9a40acc9ce62d67cd99439a71cde78cc0c5c1fbf6da052bef4cdba9\")\n",
    "soup = BeautifulSoup(content.text, 'html.parser')\n",
    "\n",
    "weathers = soup.find_all('summary',class_= \"Disclosure--Summary--3GiL4 DaypartDetails--Summary--3Fuya Disclosure--hideBorderOnSummaryOpen--3_ZkO Disclosure--tendayDisclosure--3cJgY\")\n",
    "for weather in weathers:\n",
    "    date_str = weather.find('h3',class_= \"DetailsSummary--daypartName--kbngc\").text.split()[-2:]\n",
    "    day_of_week = date_str[0]  # Extract day of the week\n",
    "    day_of_month = date_str[1]  # Extract day of the month\n",
    "    # Convert the month name to a datetime object to get the month number\n",
    "    month_number = datetime.strptime(day_of_week, '%a').month\n",
    "    # Format the date as 'dd/mm/yyyy'\n",
    "    date = f\"{day_of_month.zfill(2)}/{str(month_number).zfill(2)}/2024\"\n",
    "    day = weather.find('h3',class_= \"DetailsSummary--daypartName--kbngc\").text.split()[0]\n",
    "    high_temp = int(weather.find('span', class_=\"DetailsSummary--highTempValue--3PjlX\").text[0:2].replace('°', ''))\n",
    "    low_temp = int(weather.find('span', class_=\"DetailsSummary--lowTempValue--2tesQ\").text[0:2].replace('°', ''))\n",
    "    conditions = weather.find('span', class_=\"DetailsSummary--extendedData--307Ax\").text\n",
    "    rain = int(weather.find('div',class_=\"DetailsSummary--precip--1a98O\").text[-2:-1])\n",
    "    wind_dir = weather.find('span',class_=\"Wind--windWrapper--3Ly7c undefined\").text.split(' ')[0]\n",
    "    wind_per = weather.find('span',class_=\"Wind--windWrapper--3Ly7c undefined\").text.split(' ')[1]\n",
    "    # print(date,day,high_temp,low_temp,conditions,rain,wind_dir,wind_per)\n",
    "\n",
    "    sheet.append([date,day,high_temp,low_temp,conditions,rain,wind_dir,wind_per])\n",
    "\n",
    "excel.save(\"weather.xlsx\")\n"
   ]
  }
 ],
 "metadata": {
  "kernelspec": {
   "display_name": "Python 3",
   "language": "python",
   "name": "python3"
  },
  "language_info": {
   "codemirror_mode": {
    "name": "ipython",
    "version": 3
   },
   "file_extension": ".py",
   "mimetype": "text/x-python",
   "name": "python",
   "nbconvert_exporter": "python",
   "pygments_lexer": "ipython3",
   "version": "3.12.0"
  }
 },
 "nbformat": 4,
 "nbformat_minor": 2
}
